{
 "cells": [
  {
   "cell_type": "code",
   "execution_count": 11,
   "id": "2bc49913-cf39-42a9-bed7-d87dfce1bbb0",
   "metadata": {},
   "outputs": [
    {
     "name": "stdout",
     "output_type": "stream",
     "text": [
      "sua francisco morato esta localizado no brasil selecionado\n",
      "sua campo limpo esta localizado no brasil selecionado\n",
      "sua Montreal esta localizado no canada selecionado\n"
     ]
    }
   ],
   "source": [
    "def cidadeEpais(cidade, pais = \"brasil\"):\n",
    "    print(\"sua \"+str(cidade)+\" esta localizado no \"+str(pais)+\" selecionado\")\n",
    "\n",
    "cidadeEpais(\"francisco morato\")\n",
    "cidadeEpais(\"campo limpo\")\n",
    "cidadeEpais(\"Montreal\", pais=\"canada\")"
   ]
  },
  {
   "cell_type": "code",
   "execution_count": 14,
   "id": "accbdf10-07fd-42e5-b99f-9769e2fba816",
   "metadata": {},
   "outputs": [
    {
     "name": "stdout",
     "output_type": "stream",
     "text": [
      "1000000000000.0\n"
     ]
    }
   ],
   "source": [
    "a = 1000000000000\n",
    "b = 7000000\n",
    "maiorAB = (a+b+abs(a-b))/2\n",
    "print(maiorAB)"
   ]
  },
  {
   "cell_type": "code",
   "execution_count": 16,
   "id": "f6717efa-e304-4011-b981-2dcc08e0cc9f",
   "metadata": {},
   "outputs": [
    {
     "name": "stdout",
     "output_type": "stream",
     "text": [
      "20.0\n"
     ]
    }
   ],
   "source": [
    "a = 10\n",
    "b = 20\n",
    "c = 30\n",
    "maiorAB = (a+b+abs(a-b))/2\n",
    "print(maiorAB)"
   ]
  },
  {
   "cell_type": "code",
   "execution_count": null,
   "id": "8cca3424-41e8-46fe-ad35-2a704ca5a3b2",
   "metadata": {},
   "outputs": [],
   "source": []
  }
 ],
 "metadata": {
  "kernelspec": {
   "display_name": "Python 3 (ipykernel)",
   "language": "python",
   "name": "python3"
  },
  "language_info": {
   "codemirror_mode": {
    "name": "ipython",
    "version": 3
   },
   "file_extension": ".py",
   "mimetype": "text/x-python",
   "name": "python",
   "nbconvert_exporter": "python",
   "pygments_lexer": "ipython3",
   "version": "3.11.7"
  }
 },
 "nbformat": 4,
 "nbformat_minor": 5
}
